{
 "cells": [
  {
   "cell_type": "code",
   "execution_count": 87,
   "metadata": {},
   "outputs": [],
   "source": [
    "import ipywidgets as widgets\n",
    "slider = widgets.IntSlider(value=0)\n",
    "label = widgets.Label(value='Value: ')\n",
    "from sympy import *\n",
    "from sympy.parsing.sympy_parser import parse_expr"
   ]
  },
  {
   "cell_type": "code",
   "execution_count": 89,
   "metadata": {},
   "outputs": [
    {
     "data": {
      "application/vnd.jupyter.widget-view+json": {
       "model_id": "8441fe27d28a422db6acb76cfecc0d44",
       "version_major": 2,
       "version_minor": 0
      },
      "text/plain": [
       "A Jupyter Widget"
      ]
     },
     "metadata": {},
     "output_type": "display_data"
    },
    {
     "data": {
      "application/vnd.jupyter.widget-view+json": {
       "model_id": "6afa6d3f6e6942ac94b100b7721d2f26",
       "version_major": 2,
       "version_minor": 0
      },
      "text/plain": [
       "A Jupyter Widget"
      ]
     },
     "metadata": {},
     "output_type": "display_data"
    },
    {
     "data": {
      "application/vnd.jupyter.widget-view+json": {
       "model_id": "5a987347062743aa8222d3e04bedbcee",
       "version_major": 2,
       "version_minor": 0
      },
      "text/plain": [
       "A Jupyter Widget"
      ]
     },
     "metadata": {},
     "output_type": "display_data"
    },
    {
     "data": {
      "application/vnd.jupyter.widget-view+json": {
       "model_id": "c128a959429f4b83a7a7d91292d674f3",
       "version_major": 2,
       "version_minor": 0
      },
      "text/plain": [
       "A Jupyter Widget"
      ]
     },
     "metadata": {},
     "output_type": "display_data"
    }
   ],
   "source": [
    "A = Matrix([[1,2,3], [4,5,6]])\n",
    "question = widgets.Label(value=r'Find a vector in the nullspace of \\( A:=' + latex(A) + '\\).')\n",
    "response = widgets.Text(placeholder='Comma separated list')\n",
    "button = widgets.Button(description=\"Submit\")\n",
    "echo = widgets.Label(value='Answer the question!')\n",
    "\n",
    "def handle_click(b):\n",
    "    rows = ', '.join(['[' + row.strip() + ']' for row in response.value.split(',')])\n",
    "    expr = 'Matrix([' + rows + '])'\n",
    "    v = parse_expr(expr)\n",
    "    correct = A*v == Matrix([[0], [0]])\n",
    "    echo.value = ('Correct!' if correct else 'Wrong!')\n",
    "\n",
    "button.on_click(handle_click)\n",
    "\n",
    "display(question, response, button, echo)"
   ]
  },
  {
   "cell_type": "code",
   "execution_count": null,
   "metadata": {
    "collapsed": true
   },
   "outputs": [],
   "source": []
  }
 ],
 "metadata": {
  "kernelspec": {
   "display_name": "Python 3",
   "language": "python",
   "name": "python3"
  },
  "language_info": {
   "codemirror_mode": {
    "name": "ipython",
    "version": 3
   },
   "file_extension": ".py",
   "mimetype": "text/x-python",
   "name": "python",
   "nbconvert_exporter": "python",
   "pygments_lexer": "ipython3",
   "version": "3.6.3"
  }
 },
 "nbformat": 4,
 "nbformat_minor": 2
}
